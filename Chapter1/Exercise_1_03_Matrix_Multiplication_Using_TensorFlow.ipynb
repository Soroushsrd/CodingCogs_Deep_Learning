{
  "nbformat": 4,
  "nbformat_minor": 0,
  "metadata": {
    "colab": {
      "provenance": []
    },
    "kernelspec": {
      "name": "python3",
      "display_name": "Python 3"
    },
    "language_info": {
      "name": "python"
    }
  },
  "cells": [
    {
      "cell_type": "code",
      "execution_count": 1,
      "metadata": {
        "id": "yj84K03oM2jr"
      },
      "outputs": [],
      "source": [
        "import tensorflow as tf\n",
        "X=tf.Variable([[1,2,3],[4,5,6]])\n",
        "Y=tf.Variable([[7,8],[9,10],[11,12]])"
      ]
    },
    {
      "cell_type": "code",
      "source": [
        "tf.print(X)"
      ],
      "metadata": {
        "colab": {
          "base_uri": "https://localhost:8080/"
        },
        "id": "sS0nJ0hrM-vu",
        "outputId": "c512a508-f14d-490e-ea2e-77104afa175c"
      },
      "execution_count": 2,
      "outputs": [
        {
          "output_type": "stream",
          "name": "stdout",
          "text": [
            "[[1 2 3]\n",
            " [4 5 6]]\n"
          ]
        }
      ]
    },
    {
      "cell_type": "code",
      "source": [
        "tf.print(Y)"
      ],
      "metadata": {
        "colab": {
          "base_uri": "https://localhost:8080/"
        },
        "id": "tHAwdAVzM-f2",
        "outputId": "7c8d0623-f301-4629-a3b0-beaf752e054b"
      },
      "execution_count": 3,
      "outputs": [
        {
          "output_type": "stream",
          "name": "stdout",
          "text": [
            "[[7 8]\n",
            " [9 10]\n",
            " [11 12]]\n"
          ]
        }
      ]
    },
    {
      "cell_type": "code",
      "source": [
        "c1=tf.matmul(X,Y)"
      ],
      "metadata": {
        "id": "3tyQkSHxNGJG"
      },
      "execution_count": 4,
      "outputs": []
    },
    {
      "cell_type": "code",
      "source": [
        "tf.print(c1)"
      ],
      "metadata": {
        "colab": {
          "base_uri": "https://localhost:8080/"
        },
        "id": "h8HkwL7pNGtO",
        "outputId": "89f85e54-f0ce-4e88-a175-94ce3844360b"
      },
      "execution_count": 5,
      "outputs": [
        {
          "output_type": "stream",
          "name": "stdout",
          "text": [
            "[[58 64]\n",
            " [139 154]]\n"
          ]
        }
      ]
    },
    {
      "cell_type": "code",
      "source": [
        "c2=tf.matmul(Y,X)"
      ],
      "metadata": {
        "id": "vSCCCpqMNLUe"
      },
      "execution_count": 7,
      "outputs": []
    },
    {
      "cell_type": "code",
      "source": [],
      "metadata": {
        "id": "pz1sDEQSNM9F"
      },
      "execution_count": null,
      "outputs": []
    },
    {
      "cell_type": "code",
      "source": [
        "tf.print(c2)"
      ],
      "metadata": {
        "colab": {
          "base_uri": "https://localhost:8080/"
        },
        "id": "Ey7iMDLZNMzO",
        "outputId": "11bf151c-e86c-421c-d31a-38dc0f5f6c06"
      },
      "execution_count": 8,
      "outputs": [
        {
          "output_type": "stream",
          "name": "stdout",
          "text": [
            "[[39 54 69]\n",
            " [49 68 87]\n",
            " [59 82 105]]\n"
          ]
        }
      ]
    }
  ]
}