{
  "nbformat": 4,
  "nbformat_minor": 0,
  "metadata": {
    "colab": {
      "provenance": []
    },
    "kernelspec": {
      "name": "python3",
      "display_name": "Python 3"
    },
    "language_info": {
      "name": "python"
    }
  },
  "cells": [
    {
      "cell_type": "code",
      "execution_count": 1,
      "metadata": {
        "id": "0VDUhcz7eLi-"
      },
      "outputs": [],
      "source": [
        "import tensorflow as tf\n",
        "import pandas as pd\n",
        "from sklearn.metrics import accuracy_score\n",
        "import matplotlib.pyplot as plt\n",
        "%matplotlib inline\n",
        "from pandas import get_dummies"
      ]
    },
    {
      "cell_type": "code",
      "source": [
        "mnist = tf.keras.datasets.mnist"
      ],
      "metadata": {
        "id": "y-NraGrbeP6n"
      },
      "execution_count": 2,
      "outputs": []
    },
    {
      "cell_type": "code",
      "source": [
        "(train_features, train_labels), (test_features, test_labels) = mnist.load_data()"
      ],
      "metadata": {
        "colab": {
          "base_uri": "https://localhost:8080/"
        },
        "id": "L6SAraVOeQC5",
        "outputId": "f67f5311-2c03-4c1f-efca-7060afe4761c"
      },
      "execution_count": 3,
      "outputs": [
        {
          "output_type": "stream",
          "name": "stdout",
          "text": [
            "Downloading data from https://storage.googleapis.com/tensorflow/tf-keras-datasets/mnist.npz\n",
            "\u001b[1m11490434/11490434\u001b[0m \u001b[32m━━━━━━━━━━━━━━━━━━━━\u001b[0m\u001b[37m\u001b[0m \u001b[1m0s\u001b[0m 0us/step\n"
          ]
        }
      ]
    },
    {
      "cell_type": "code",
      "source": [
        "train_features, test_features = train_features / 255.0, test_features / 255.0"
      ],
      "metadata": {
        "id": "1uG1jOsheQGb"
      },
      "execution_count": 4,
      "outputs": []
    },
    {
      "cell_type": "code",
      "source": [
        "x = tf.reshape(train_features,[60000, 784])"
      ],
      "metadata": {
        "id": "g9wPuTyneYI6"
      },
      "execution_count": 5,
      "outputs": []
    },
    {
      "cell_type": "code",
      "source": [
        "x = tf.Variable(x)\n",
        "x = tf.cast(x, tf.float32)"
      ],
      "metadata": {
        "id": "S8gHbaIgeYOG"
      },
      "execution_count": 6,
      "outputs": []
    },
    {
      "cell_type": "code",
      "source": [
        "y_hot = get_dummies(train_labels)\n",
        "y = y_hot.values"
      ],
      "metadata": {
        "id": "kziQjLe9eYTF"
      },
      "execution_count": 7,
      "outputs": []
    },
    {
      "cell_type": "code",
      "source": [
        "#defining the parameters\n",
        "Number_of_features = 784\n",
        "Number_of_units = 10\n",
        "\n",
        "# weights and bias\n",
        "weight = tf.Variable(tf.zeros([Number_of_features, Number_of_units]))\n",
        "bias = tf.Variable(tf.zeros([Number_of_units]))\n",
        "\n",
        "#perceptron definition\n",
        "def perceptron(x):\n",
        "    z = tf.add(tf.matmul(x,weight),bias)\n",
        "    output = tf.nn.softmax(z)\n",
        "    return output\n",
        "\n",
        " #optimizer\n",
        "optimizer = tf.optimizers.Adam(.01)\n",
        "\n",
        "#training definition\n",
        "def train(iterations):\n",
        "    for n in range(iterations):\n",
        "        with tf.GradientTape() as tape:\n",
        "            logits = perceptron(x)\n",
        "            loss = tf.reduce_mean(\n",
        "                tf.nn.softmax_cross_entropy_with_logits(labels=y, logits=logits)\n",
        "            )\n",
        "\n",
        "        # Get gradients\n",
        "        gradients = tape.gradient(loss, [weight, bias])\n",
        "        # Apply gradients\n",
        "        optimizer.apply_gradients(zip(gradients, [weight, bias]))\n",
        "\n",
        "#Train the network\n",
        "train(1000)"
      ],
      "metadata": {
        "id": "YbRukug_eeFg"
      },
      "execution_count": 12,
      "outputs": []
    },
    {
      "cell_type": "code",
      "source": [
        "# Prepare the test data to measure the accuracy.\n",
        "test = tf.reshape(test_features, [10000, 784])\n",
        "test = tf.Variable(test)\n",
        "test = tf.cast(test, tf.float32)\n",
        "test_hot = get_dummies(test_labels)\n",
        "test_matrix = test_hot.values"
      ],
      "metadata": {
        "id": "7PLWrDROeeIo"
      },
      "execution_count": 13,
      "outputs": []
    },
    {
      "cell_type": "code",
      "source": [
        "ypred = perceptron(test)\n",
        "ypred = tf.round(ypred)"
      ],
      "metadata": {
        "id": "X9VnjP6vejOA"
      },
      "execution_count": 14,
      "outputs": []
    },
    {
      "cell_type": "code",
      "source": [
        "accuracy_score(test_hot, ypred)"
      ],
      "metadata": {
        "colab": {
          "base_uri": "https://localhost:8080/"
        },
        "id": "NmC26-FzejXX",
        "outputId": "2ef0b4d9-608f-42fe-dc6c-4471fcc4ef55"
      },
      "execution_count": 15,
      "outputs": [
        {
          "output_type": "execute_result",
          "data": {
            "text/plain": [
              "0.9304"
            ]
          },
          "metadata": {},
          "execution_count": 15
        }
      ]
    }
  ]
}