{
  "nbformat": 4,
  "nbformat_minor": 0,
  "metadata": {
    "colab": {
      "provenance": []
    },
    "kernelspec": {
      "name": "python3",
      "display_name": "Python 3"
    },
    "language_info": {
      "name": "python"
    }
  },
  "cells": [
    {
      "cell_type": "code",
      "execution_count": 1,
      "metadata": {
        "id": "b8xhyYcu-By4"
      },
      "outputs": [],
      "source": [
        "import tensorflow as tf"
      ]
    },
    {
      "cell_type": "code",
      "source": [
        "X = tf.Variable([[0.,0.],[0.,1.],[1.,0.],[1.,1.]],dtype=tf.float32)\n",
        "print(X)"
      ],
      "metadata": {
        "colab": {
          "base_uri": "https://localhost:8080/"
        },
        "id": "TiEs14r1-OMJ",
        "outputId": "b052af88-f0dc-428b-e107-f7694f30adda"
      },
      "execution_count": 2,
      "outputs": [
        {
          "output_type": "stream",
          "name": "stdout",
          "text": [
            "<tf.Variable 'Variable:0' shape=(4, 2) dtype=float32, numpy=\n",
            "array([[0., 0.],\n",
            "       [0., 1.],\n",
            "       [1., 0.],\n",
            "       [1., 1.]], dtype=float32)>\n"
          ]
        }
      ]
    },
    {
      "cell_type": "code",
      "source": [
        "y = tf.Variable([0, 1, 1, 1], dtype=tf.float32)\n",
        "y = tf.reshape(y, [4,1])\n",
        "print(y)"
      ],
      "metadata": {
        "colab": {
          "base_uri": "https://localhost:8080/"
        },
        "id": "t6ZW7GfH-OIw",
        "outputId": "309686c8-9aa4-4986-ecf3-43de72ef58ee"
      },
      "execution_count": 3,
      "outputs": [
        {
          "output_type": "stream",
          "name": "stdout",
          "text": [
            "tf.Tensor(\n",
            "[[0.]\n",
            " [1.]\n",
            " [1.]\n",
            " [1.]], shape=(4, 1), dtype=float32)\n"
          ]
        }
      ]
    },
    {
      "cell_type": "code",
      "source": [
        "NUM_FEATURES = X.shape[1]\n",
        "OUTPUT_SIZE = 1"
      ],
      "metadata": {
        "id": "i_W7qDDq-OFZ"
      },
      "execution_count": 4,
      "outputs": []
    },
    {
      "cell_type": "code",
      "source": [
        "W = tf.Variable(tf.zeros([NUM_FEATURES, OUTPUT_SIZE]), dtype=tf.float32)\n",
        "print(W)"
      ],
      "metadata": {
        "colab": {
          "base_uri": "https://localhost:8080/"
        },
        "id": "EIirhF57-OBv",
        "outputId": "c1172d08-5f51-44fd-9f59-e019c43516d8"
      },
      "execution_count": 5,
      "outputs": [
        {
          "output_type": "stream",
          "name": "stdout",
          "text": [
            "<tf.Variable 'Variable:0' shape=(2, 1) dtype=float32, numpy=\n",
            "array([[0.],\n",
            "       [0.]], dtype=float32)>\n"
          ]
        }
      ]
    },
    {
      "cell_type": "code",
      "source": [
        "B = tf.Variable(tf.zeros([OUTPUT_SIZE, 1]), dtype=tf.float32)\n",
        "print(B)"
      ],
      "metadata": {
        "colab": {
          "base_uri": "https://localhost:8080/"
        },
        "id": "JAnM8mR2-N-M",
        "outputId": "049478f0-adf7-4ef4-9565-5fc32ba7f97e"
      },
      "execution_count": 6,
      "outputs": [
        {
          "output_type": "stream",
          "name": "stdout",
          "text": [
            "<tf.Variable 'Variable:0' shape=(1, 1) dtype=float32, numpy=array([[0.]], dtype=float32)>\n"
          ]
        }
      ]
    },
    {
      "cell_type": "code",
      "source": [
        "def perceptron(X):\n",
        "  z = tf.add(tf.matmul(X, W), B)\n",
        "  output = tf.sigmoid(z)\n",
        "  return output\n",
        "print(perceptron(X))"
      ],
      "metadata": {
        "colab": {
          "base_uri": "https://localhost:8080/"
        },
        "id": "vMj7-ZI--N6k",
        "outputId": "6262ad70-c243-4afe-fb6b-c76b219ddf2f"
      },
      "execution_count": 7,
      "outputs": [
        {
          "output_type": "stream",
          "name": "stdout",
          "text": [
            "tf.Tensor(\n",
            "[[0.5]\n",
            " [0.5]\n",
            " [0.5]\n",
            " [0.5]], shape=(4, 1), dtype=float32)\n"
          ]
        }
      ]
    },
    {
      "cell_type": "code",
      "source": [
        "learning_rate = 0.01\n",
        "optimizer = tf.optimizers.SGD(learning_rate)\n",
        "no_of_epochs = 1000"
      ],
      "metadata": {
        "id": "L8kJHWiGO6AU"
      },
      "execution_count": 9,
      "outputs": []
    },
    {
      "cell_type": "code",
      "source": [
        "for n in range(no_of_epochs):\n",
        "    with tf.GradientTape() as tape:\n",
        "        # Calculate loss\n",
        "        logits = perceptron(X)\n",
        "        loss = tf.reduce_mean(\n",
        "            tf.nn.sigmoid_cross_entropy_with_logits(\n",
        "                labels=y,\n",
        "                logits=logits\n",
        "            )\n",
        "        )\n",
        "\n",
        "    # Calculate gradients\n",
        "    gradients = tape.gradient(loss, [W, B])\n",
        "\n",
        "    # Apply gradients\n",
        "    optimizer.apply_gradients(zip(gradients, [W, B]))"
      ],
      "metadata": {
        "id": "uHLxAe1XO59h"
      },
      "execution_count": 10,
      "outputs": []
    },
    {
      "cell_type": "code",
      "source": [
        "print(W)"
      ],
      "metadata": {
        "colab": {
          "base_uri": "https://localhost:8080/"
        },
        "id": "7yzAKNRJO56m",
        "outputId": "5bc9495f-2ef1-420e-9171-a314cb6a2f72"
      },
      "execution_count": 11,
      "outputs": [
        {
          "output_type": "stream",
          "name": "stdout",
          "text": [
            "<tf.Variable 'Variable:0' shape=(2, 1) dtype=float32, numpy=\n",
            "array([[0.41244915],\n",
            "       [0.41244915]], dtype=float32)>\n"
          ]
        }
      ]
    },
    {
      "cell_type": "code",
      "source": [
        "print(B)"
      ],
      "metadata": {
        "colab": {
          "base_uri": "https://localhost:8080/"
        },
        "id": "7s_45KVaO5u5",
        "outputId": "dfb3d4c8-3b8b-4c4f-e008-ba63ddf62a49"
      },
      "execution_count": 12,
      "outputs": [
        {
          "output_type": "stream",
          "name": "stdout",
          "text": [
            "<tf.Variable 'Variable:0' shape=(1, 1) dtype=float32, numpy=array([[0.23606588]], dtype=float32)>\n"
          ]
        }
      ]
    }
  ]
}