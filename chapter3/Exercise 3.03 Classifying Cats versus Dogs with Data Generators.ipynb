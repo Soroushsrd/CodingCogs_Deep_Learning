{
 "cells": [
  {
   "metadata": {
    "jupyter": {
     "is_executing": true
    }
   },
   "cell_type": "code",
   "source": "import tensorflow as tf",
   "id": "cfd7a7d14abb6304",
   "outputs": [],
   "execution_count": null
  },
  {
   "metadata": {},
   "cell_type": "code",
   "outputs": [],
   "execution_count": null,
   "source": [
    "file_url = 'https://github.com/PacktWorkshops'\\\n",
    "'/The-Deep-Learning-Workshop/raw/master'\\\n",
    "'/Chapter03/Datasets/Exercise3.03'\\\n",
    "'/cats_and_dogs_filtered.zip'"
   ],
   "id": "1331cdb5ce5befc"
  },
  {
   "metadata": {},
   "cell_type": "code",
   "outputs": [],
   "execution_count": null,
   "source": "zip_dir = tf.keras.utils.get_file('cats_and_dogs.zip', origin=file_url, extract=True)\n",
   "id": "3177747dfd5c3142"
  },
  {
   "metadata": {},
   "cell_type": "code",
   "outputs": [],
   "execution_count": null,
   "source": "import pathlib",
   "id": "2fc8eabacea7752e"
  },
  {
   "metadata": {},
   "cell_type": "code",
   "outputs": [],
   "execution_count": null,
   "source": "path = pathlib.Path(zip_dir).parent / 'cats_and_dogs_filtered'",
   "id": "dbb4b7b36aaecb4b"
  },
  {
   "metadata": {},
   "cell_type": "code",
   "outputs": [],
   "execution_count": null,
   "source": [
    "train_dir = path / 'train'\n",
    "validation_dir = path / 'validation'"
   ],
   "id": "ca9e94adcdd3be4b"
  },
  {
   "metadata": {},
   "cell_type": "code",
   "outputs": [],
   "execution_count": null,
   "source": [
    "train_cats_dir = train_dir / 'cats'\n",
    "train_dogs_dir = train_dir /'dogs'\n",
    "validation_cats_dir = validation_dir / 'cats'\n",
    "validation_dogs_dir = validation_dir / 'dogs'"
   ],
   "id": "aedb44aeb29ed41b"
  },
  {
   "metadata": {},
   "cell_type": "code",
   "outputs": [],
   "execution_count": null,
   "source": "",
   "id": "a995f544caca6af5"
  },
  {
   "metadata": {},
   "cell_type": "code",
   "outputs": [],
   "execution_count": null,
   "source": "",
   "id": "410e82e3ec4a1c28"
  }
 ],
 "metadata": {},
 "nbformat": 5,
 "nbformat_minor": 9
}
