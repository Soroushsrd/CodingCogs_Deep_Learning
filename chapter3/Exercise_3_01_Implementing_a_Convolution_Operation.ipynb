{
  "nbformat": 4,
  "nbformat_minor": 0,
  "metadata": {
    "colab": {
      "provenance": []
    },
    "kernelspec": {
      "name": "python3",
      "display_name": "Python 3"
    },
    "language_info": {
      "name": "python"
    }
  },
  "cells": [
    {
      "cell_type": "code",
      "execution_count": 1,
      "metadata": {
        "id": "TEHvpOlSFw06"
      },
      "outputs": [],
      "source": [
        "import tensorflow as tf"
      ]
    },
    {
      "cell_type": "code",
      "source": [
        "A = tf.Variable([[1, 2, 3], [4, 5, 6], [7, 8, 9]])\n",
        "A"
      ],
      "metadata": {
        "colab": {
          "base_uri": "https://localhost:8080/"
        },
        "id": "My6ber1DF4dc",
        "outputId": "9d9d8ae4-97ef-4dd7-86e5-13fdb0badffa"
      },
      "execution_count": 2,
      "outputs": [
        {
          "output_type": "execute_result",
          "data": {
            "text/plain": [
              "<tf.Variable 'Variable:0' shape=(3, 3) dtype=int32, numpy=\n",
              "array([[1, 2, 3],\n",
              "       [4, 5, 6],\n",
              "       [7, 8, 9]], dtype=int32)>"
            ]
          },
          "metadata": {},
          "execution_count": 2
        }
      ]
    },
    {
      "cell_type": "code",
      "source": [
        "B = tf.Variable([[1, 0, -1], [1, 0, -1], [1, 0, -1]])\n",
        "B"
      ],
      "metadata": {
        "colab": {
          "base_uri": "https://localhost:8080/"
        },
        "id": "MqI5nSbuF4ab",
        "outputId": "d559205f-6f91-49b6-cf4a-421a3af5477b"
      },
      "execution_count": 3,
      "outputs": [
        {
          "output_type": "execute_result",
          "data": {
            "text/plain": [
              "<tf.Variable 'Variable:0' shape=(3, 3) dtype=int32, numpy=\n",
              "array([[ 1,  0, -1],\n",
              "       [ 1,  0, -1],\n",
              "       [ 1,  0, -1]], dtype=int32)>"
            ]
          },
          "metadata": {},
          "execution_count": 3
        }
      ]
    },
    {
      "cell_type": "code",
      "source": [
        "mult_out = tf.math.multiply(A, B)\n",
        "mult_out"
      ],
      "metadata": {
        "colab": {
          "base_uri": "https://localhost:8080/"
        },
        "id": "Txt4FT9qF4XJ",
        "outputId": "91de78b8-49ae-49f9-c01c-baa7caf1ea51"
      },
      "execution_count": 4,
      "outputs": [
        {
          "output_type": "execute_result",
          "data": {
            "text/plain": [
              "<tf.Tensor: shape=(3, 3), dtype=int32, numpy=\n",
              "array([[ 1,  0, -3],\n",
              "       [ 4,  0, -6],\n",
              "       [ 7,  0, -9]], dtype=int32)>"
            ]
          },
          "metadata": {},
          "execution_count": 4
        }
      ]
    },
    {
      "cell_type": "code",
      "source": [
        "conv_out = tf.math.reduce_sum(mult_out)\n",
        "conv_out"
      ],
      "metadata": {
        "colab": {
          "base_uri": "https://localhost:8080/"
        },
        "id": "yv5fni2eF4Tt",
        "outputId": "f50a3621-e3bb-4b4e-c09f-92c673b63551"
      },
      "execution_count": 5,
      "outputs": [
        {
          "output_type": "execute_result",
          "data": {
            "text/plain": [
              "<tf.Tensor: shape=(), dtype=int32, numpy=-6>"
            ]
          },
          "metadata": {},
          "execution_count": 5
        }
      ]
    },
    {
      "cell_type": "code",
      "source": [],
      "metadata": {
        "id": "U-_U8XPoF4PM"
      },
      "execution_count": null,
      "outputs": []
    }
  ]
}