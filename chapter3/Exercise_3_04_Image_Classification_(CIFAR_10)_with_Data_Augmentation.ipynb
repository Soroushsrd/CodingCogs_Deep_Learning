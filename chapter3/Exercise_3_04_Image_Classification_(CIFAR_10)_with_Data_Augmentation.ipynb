{
  "nbformat": 4,
  "nbformat_minor": 0,
  "metadata": {
    "colab": {
      "provenance": []
    },
    "kernelspec": {
      "name": "python3",
      "display_name": "Python 3"
    },
    "language_info": {
      "name": "python"
    }
  },
  "cells": [
    {
      "cell_type": "code",
      "execution_count": 3,
      "metadata": {
        "id": "Lt8Lp7n-ruXz"
      },
      "outputs": [],
      "source": [
        "from tensorflow.keras.datasets import cifar10"
      ]
    },
    {
      "cell_type": "code",
      "source": [
        "(features_train, label_train), (features_test, label_test) = cifar10.load_data()"
      ],
      "metadata": {
        "colab": {
          "base_uri": "https://localhost:8080/"
        },
        "id": "yP7qYeqKs1lk",
        "outputId": "a2a05f99-179f-4423-f58e-c4ca4ebc4ec6"
      },
      "execution_count": 4,
      "outputs": [
        {
          "output_type": "stream",
          "name": "stdout",
          "text": [
            "Downloading data from https://www.cs.toronto.edu/~kriz/cifar-10-python.tar.gz\n",
            "\u001b[1m170498071/170498071\u001b[0m \u001b[32m━━━━━━━━━━━━━━━━━━━━\u001b[0m\u001b[37m\u001b[0m \u001b[1m4s\u001b[0m 0us/step\n"
          ]
        }
      ]
    },
    {
      "cell_type": "code",
      "source": [
        "features_train.shape"
      ],
      "metadata": {
        "colab": {
          "base_uri": "https://localhost:8080/"
        },
        "id": "koPh-lXUs1in",
        "outputId": "ceb79784-129b-410d-f77a-d6cb8849c208"
      },
      "execution_count": 5,
      "outputs": [
        {
          "output_type": "execute_result",
          "data": {
            "text/plain": [
              "(50000, 32, 32, 3)"
            ]
          },
          "metadata": {},
          "execution_count": 5
        }
      ]
    },
    {
      "cell_type": "code",
      "source": [
        "batch_size = 16\n",
        "img_height = 32\n",
        "img_width = 32"
      ],
      "metadata": {
        "id": "Zu2OzT-Qs1fi"
      },
      "execution_count": 6,
      "outputs": []
    },
    {
      "cell_type": "code",
      "source": [
        "from tensorflow.keras.preprocessing.image import ImageDataGenerator"
      ],
      "metadata": {
        "id": "-DiEs1LVs2jO"
      },
      "execution_count": 7,
      "outputs": []
    },
    {
      "cell_type": "code",
      "source": [
        "train_img_gen = ImageDataGenerator\\\n",
        "(rescale=1./255, width_shift_range=0.1, \\\n",
        "height_shift_range=0.1, horizontal_flip=True)"
      ],
      "metadata": {
        "id": "CgC1_LC0s2gY"
      },
      "execution_count": 8,
      "outputs": []
    },
    {
      "cell_type": "code",
      "source": [
        "val_img_gen = ImageDataGenerator(rescale=1./255)"
      ],
      "metadata": {
        "id": "x7FJ5okbs2de"
      },
      "execution_count": 9,
      "outputs": []
    },
    {
      "cell_type": "code",
      "source": [
        "train_data_gen = train_img_gen.flow\\\n",
        "(features_train, label_train, \\\n",
        "batch_size=batch_size)"
      ],
      "metadata": {
        "id": "6TTPiVHEs2am"
      },
      "execution_count": 10,
      "outputs": []
    },
    {
      "cell_type": "code",
      "source": [
        "val_data_gen = train_img_gen.flow(features_test, label_test, batch_size=batch_size)"
      ],
      "metadata": {
        "id": "OyG_G1bes2Xn"
      },
      "execution_count": 11,
      "outputs": []
    },
    {
      "cell_type": "code",
      "source": [
        "import numpy as np\n",
        "import tensorflow as tf\n",
        "from tensorflow.keras import layers"
      ],
      "metadata": {
        "id": "dXcxpfQIs2Ux"
      },
      "execution_count": 12,
      "outputs": []
    },
    {
      "cell_type": "code",
      "source": [
        "np.random.seed(8)\n",
        "tf.random.set_seed(8)"
      ],
      "metadata": {
        "id": "vkyGO6sms2Ry"
      },
      "execution_count": 13,
      "outputs": []
    },
    {
      "cell_type": "code",
      "source": [
        "model = tf.keras.Sequential([\n",
        "layers.Conv2D(64, 3, activation='relu', \\\n",
        "input_shape=(img_height, img_width ,3)), \\\n",
        "layers.MaxPooling2D(), \\\n",
        "layers.Conv2D(128, 3, activation='relu'), \\\n",
        "layers.MaxPooling2D(), \\\n",
        "layers.Flatten(), \\\n",
        "layers.Dense(128, activation='relu'), \\\n",
        "layers.Dense(10, activation='softmax')])"
      ],
      "metadata": {
        "colab": {
          "base_uri": "https://localhost:8080/"
        },
        "id": "iKFowDyLs2O5",
        "outputId": "19be53ab-5174-450e-d0b7-89b215e6a8c3"
      },
      "execution_count": 14,
      "outputs": [
        {
          "output_type": "stream",
          "name": "stderr",
          "text": [
            "/usr/local/lib/python3.11/dist-packages/keras/src/layers/convolutional/base_conv.py:107: UserWarning: Do not pass an `input_shape`/`input_dim` argument to a layer. When using Sequential models, prefer using an `Input(shape)` object as the first layer in the model instead.\n",
            "  super().__init__(activity_regularizer=activity_regularizer, **kwargs)\n"
          ]
        }
      ]
    },
    {
      "cell_type": "code",
      "source": [
        "optimizer = tf.keras.optimizers.Adam(0.001)"
      ],
      "metadata": {
        "id": "xbwAItGOth2c"
      },
      "execution_count": 15,
      "outputs": []
    },
    {
      "cell_type": "code",
      "source": [
        "model.compile(loss='sparse_categorical_crossentropy', \\\n",
        "optimizer=optimizer, metrics=['accuracy'])"
      ],
      "metadata": {
        "id": "r3Qq9bEVthzo"
      },
      "execution_count": 16,
      "outputs": []
    },
    {
      "cell_type": "code",
      "source": [
        "model.fit(train_data_gen, steps_per_epoch=len(features_train) // batch_size, epochs=5, validation_data=val_data_gen, validation_steps=len(features_test) // batch_size)"
      ],
      "metadata": {
        "colab": {
          "base_uri": "https://localhost:8080/"
        },
        "id": "coKIMb6Uthw4",
        "outputId": "b04f143f-cd68-4268-8b4c-0d255df03974"
      },
      "execution_count": 18,
      "outputs": [
        {
          "metadata": {
            "tags": null
          },
          "name": "stdout",
          "output_type": "stream",
          "text": [
            "Epoch 1/5\n"
          ]
        },
        {
          "metadata": {
            "tags": null
          },
          "name": "stderr",
          "output_type": "stream",
          "text": [
            "/usr/local/lib/python3.11/dist-packages/keras/src/trainers/data_adapters/py_dataset_adapter.py:121: UserWarning: Your `PyDataset` class should call `super().__init__(**kwargs)` in its constructor. `**kwargs` can include `workers`, `use_multiprocessing`, `max_queue_size`. Do not pass these arguments to `fit()`, as they will be ignored.\n",
            "  self._warn_if_super_not_called()\n"
          ]
        },
        {
          "metadata": {
            "tags": null
          },
          "name": "stdout",
          "output_type": "stream",
          "text": [
            "\u001b[1m3125/3125\u001b[0m \u001b[32m━━━━━━━━━━━━━━━━━━━━\u001b[0m\u001b[37m\u001b[0m \u001b[1m256s\u001b[0m 81ms/step - accuracy: 0.3873 - loss: 1.6827 - val_accuracy: 0.5575 - val_loss: 1.2451\n",
            "Epoch 2/5\n",
            "\u001b[1m3125/3125\u001b[0m \u001b[32m━━━━━━━━━━━━━━━━━━━━\u001b[0m\u001b[37m\u001b[0m \u001b[1m213s\u001b[0m 68ms/step - accuracy: 0.5776 - loss: 1.1913 - val_accuracy: 0.6061 - val_loss: 1.1208\n",
            "Epoch 3/5\n",
            "\u001b[1m3125/3125\u001b[0m \u001b[32m━━━━━━━━━━━━━━━━━━━━\u001b[0m\u001b[37m\u001b[0m \u001b[1m215s\u001b[0m 69ms/step - accuracy: 0.6293 - loss: 1.0602 - val_accuracy: 0.6310 - val_loss: 1.0378\n",
            "Epoch 4/5\n",
            "\u001b[1m3125/3125\u001b[0m \u001b[32m━━━━━━━━━━━━━━━━━━━━\u001b[0m\u001b[37m\u001b[0m \u001b[1m258s\u001b[0m 68ms/step - accuracy: 0.6480 - loss: 0.9932 - val_accuracy: 0.6537 - val_loss: 0.9929\n",
            "Epoch 5/5\n",
            "\u001b[1m3125/3125\u001b[0m \u001b[32m━━━━━━━━━━━━━━━━━━━━\u001b[0m\u001b[37m\u001b[0m \u001b[1m270s\u001b[0m 70ms/step - accuracy: 0.6704 - loss: 0.9397 - val_accuracy: 0.6566 - val_loss: 0.9774\n"
          ]
        },
        {
          "output_type": "execute_result",
          "data": {
            "text/plain": [
              "<keras.src.callbacks.history.History at 0x7b30d6c28cd0>"
            ]
          },
          "metadata": {},
          "execution_count": 18
        }
      ]
    },
    {
      "cell_type": "code",
      "source": [],
      "metadata": {
        "id": "cJISifedthub"
      },
      "execution_count": null,
      "outputs": []
    },
    {
      "cell_type": "code",
      "source": [],
      "metadata": {
        "id": "EUpk7WJxthr9"
      },
      "execution_count": null,
      "outputs": []
    }
  ]
}